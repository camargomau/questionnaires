{
 "cells": [
  {
   "cell_type": "markdown",
   "id": "a9596d6f",
   "metadata": {},
   "source": [
    "# Cluster Analysis"
   ]
  },
  {
   "cell_type": "code",
   "execution_count": null,
   "id": "136d3a78",
   "metadata": {},
   "outputs": [],
   "source": [
    "import pandas as pd\n",
    "from cluster_stats import generate_cluster_stats"
   ]
  },
  {
   "cell_type": "code",
   "execution_count": null,
   "id": "1866325a",
   "metadata": {},
   "outputs": [],
   "source": [
    "# Load the clustering results\n",
    "data = pd.read_csv(\"../data/export/clustering_results.csv\")"
   ]
  },
  {
   "cell_type": "code",
   "execution_count": null,
   "id": "145b6ef0",
   "metadata": {},
   "outputs": [],
   "source": [
    "kmeans_stats = generate_cluster_stats(data, \"KMeans_Cluster\")\n",
    "kmeans_stats.keys()"
   ]
  },
  {
   "cell_type": "code",
   "execution_count": null,
   "id": "da6a33ca",
   "metadata": {},
   "outputs": [],
   "source": [
    "kmeans_stats[\"mean\"]"
   ]
  },
  {
   "cell_type": "code",
   "execution_count": null,
   "id": "d51e0f40",
   "metadata": {},
   "outputs": [],
   "source": [
    "kmeans_stats[\"median\"]"
   ]
  },
  {
   "cell_type": "code",
   "execution_count": null,
   "id": "86743378",
   "metadata": {},
   "outputs": [],
   "source": [
    "kmeans_stats[\"std\"]"
   ]
  },
  {
   "cell_type": "code",
   "execution_count": null,
   "id": "740a472d",
   "metadata": {},
   "outputs": [],
   "source": [
    "kmeans_stats[\"var\"]"
   ]
  },
  {
   "cell_type": "code",
   "execution_count": null,
   "id": "5d07c24d",
   "metadata": {},
   "outputs": [],
   "source": [
    "kmeans_stats[\"range\"]"
   ]
  }
 ],
 "metadata": {
  "kernelspec": {
   "display_name": ".venv",
   "language": "python",
   "name": "python3"
  },
  "language_info": {
   "codemirror_mode": {
    "name": "ipython",
    "version": 3
   },
   "file_extension": ".py",
   "mimetype": "text/x-python",
   "name": "python",
   "nbconvert_exporter": "python",
   "pygments_lexer": "ipython3",
   "version": "3.12.10"
  }
 },
 "nbformat": 4,
 "nbformat_minor": 5
}
