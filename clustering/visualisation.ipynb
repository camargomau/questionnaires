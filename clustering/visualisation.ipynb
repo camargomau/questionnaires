{
 "cells": [
  {
   "cell_type": "code",
   "execution_count": null,
   "id": "b6177939",
   "metadata": {},
   "outputs": [],
   "source": [
    "import pandas as pd\n",
    "import seaborn as sns\n",
    "import matplotlib.pyplot as plt"
   ]
  },
  {
   "cell_type": "code",
   "execution_count": null,
   "id": "5af60dcb",
   "metadata": {},
   "outputs": [],
   "source": [
    "# Load the clustering results\n",
    "data = pd.read_csv(\"../data/export/clustering_results.csv\")"
   ]
  },
  {
   "cell_type": "code",
   "execution_count": null,
   "id": "8dfbe1ee",
   "metadata": {},
   "outputs": [],
   "source": [
    "# Function for visualisation of clustering results\n",
    "def visualise_clusters(data, cluster_column, x_column, y_column, title=\"Cluster Visualisation\"):\n",
    "    \"\"\"\n",
    "    Visualize the clustering results using a scatter plot.\n",
    "\n",
    "    Args:\n",
    "        data (pd.DataFrame): The input data for clustering.\n",
    "        cluster_column (str): The column name containing cluster labels.\n",
    "        x_column (str): The column name to use for the x-axis.\n",
    "        y_column (str): The column name to use for the y-axis.\n",
    "        title (str): The title of the plot.\n",
    "    \"\"\"\n",
    "\n",
    "    plt.figure(figsize=(10, 6))\n",
    "    scatter = sns.scatterplot(\n",
    "        # Use the specified columns for x and y axes\n",
    "        x=data[x_column],\n",
    "        y=data[y_column],\n",
    "        hue=cluster_column,\n",
    "        palette='viridis',\n",
    "        data=data,\n",
    "        s=50\n",
    "    )\n",
    "\n",
    "    scatter.set_title(title)\n",
    "    scatter.set_xlabel(x_column)\n",
    "    scatter.set_ylabel(y_column)\n",
    "    plt.legend(title=\"Cluster\")\n",
    "    plt.show()"
   ]
  },
  {
   "cell_type": "code",
   "execution_count": null,
   "id": "540651fa",
   "metadata": {},
   "outputs": [],
   "source": [
    "def visualise_all_clusters(data, x_column, y_column):\n",
    "\t\"\"\"\n",
    "\tVisualise all clusters in the data.\n",
    "\n",
    "\tArgs:\n",
    "\t\tdata (pd.DataFrame): The input data for clustering.\n",
    "\t\tcluster_column (str): The column name containing cluster labels.\n",
    "\t\tx_column (str): The column name to use for the x-axis.\n",
    "\t\ty_column (str): The column name to use for the y-axis.\n",
    "\t\"\"\"\n",
    "\n",
    "\tvisualise_clusters(data, \"KMeans_Cluster\", x_column=x_column, y_column=y_column, title=\"KMeans Clustering\")\n",
    "\tvisualise_clusters(data, \"DBSCAN_Cluster\", x_column=x_column, y_column=y_column, title=\"DBSCAN Clustering\")\n",
    "\tvisualise_clusters(data, \"Agglomerative_Cluster\", x_column=x_column, y_column=y_column, title=\"Agglomerative Clustering\")\n",
    "\tvisualise_clusters(data, \"GMM_Cluster\", x_column=x_column, y_column=y_column, title=\"Gaussian Mixture Model Clustering\")\n"
   ]
  },
  {
   "cell_type": "code",
   "execution_count": null,
   "id": "a97c07e7",
   "metadata": {},
   "outputs": [],
   "source": [
    "visualise_all_clusters(data, x_column=\"cual es tu promedio actual\", y_column=\"cuantas horas al dia usas dispositivos electronicos para fines personales\")"
   ]
  }
 ],
 "metadata": {
  "kernelspec": {
   "display_name": ".venv",
   "language": "python",
   "name": "python3"
  },
  "language_info": {
   "codemirror_mode": {
    "name": "ipython",
    "version": 3
   },
   "file_extension": ".py",
   "mimetype": "text/x-python",
   "name": "python",
   "nbconvert_exporter": "python",
   "pygments_lexer": "ipython3",
   "version": "3.12.10"
  }
 },
 "nbformat": 4,
 "nbformat_minor": 5
}
