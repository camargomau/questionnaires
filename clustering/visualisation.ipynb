{
 "cells": [
  {
   "cell_type": "markdown",
   "id": "9a613213",
   "metadata": {},
   "source": [
    "# Cluster Visualisation"
   ]
  },
  {
   "cell_type": "code",
   "execution_count": null,
   "id": "b6177939",
   "metadata": {},
   "outputs": [],
   "source": [
    "import pandas as pd\n",
    "import seaborn as sns\n",
    "import matplotlib.pyplot as plt\n",
    "from scipy.spatial import ConvexHull"
   ]
  },
  {
   "cell_type": "code",
   "execution_count": null,
   "id": "5af60dcb",
   "metadata": {},
   "outputs": [],
   "source": [
    "# Load the clustering results\n",
    "data = pd.read_csv(\"../data/export/clustering_results.csv\")"
   ]
  },
  {
   "cell_type": "code",
   "execution_count": null,
   "id": "8dfbe1ee",
   "metadata": {},
   "outputs": [],
   "source": [
    "# Function for visualisation of clustering results\n",
    "def visualise_clusters(data, cluster_column, x_column, y_column, x_label, y_label, title=\"Cluster Visualisation\", show_contour=False):\n",
    "    \"\"\"\n",
    "    Visualize the clustering results using a scatter plot.\n",
    "\n",
    "    Args:\n",
    "        data (pd.DataFrame): The input data for clustering.\n",
    "        cluster_column (str): The column name containing cluster labels.\n",
    "        x_column (str): The column name to use for the x-axis.\n",
    "        y_column (str): The column name to use for the y-axis.\n",
    "        x_label (str): The label to use for the x-axis.\n",
    "        y_label (str): The label to use for the y-axis.\n",
    "        title (str): The title of the plot.\n",
    "        show_contour (bool): Whether to show the convex hull (contour) for each cluster.\n",
    "    \"\"\"\n",
    "\n",
    "    plt.figure(figsize=(5, 4))\n",
    "    scatter = sns.scatterplot(\n",
    "        # Use the specified columns for x and y axes\n",
    "        x=data[x_column],\n",
    "        y=data[y_column],\n",
    "        hue=cluster_column,\n",
    "        palette='viridis',\n",
    "        data=data,\n",
    "        s=50\n",
    "    )\n",
    "\n",
    "    scatter.set_title(title)\n",
    "    scatter.set_xlabel(x_label)\n",
    "    scatter.set_ylabel(y_label)\n",
    "    plt.legend(title=\"Cluster\")\n",
    "\n",
    "    # Add filled convex hulls if show_contour is True\n",
    "    if show_contour:\n",
    "        unique_clusters = data[cluster_column].unique()\n",
    "        for cluster in unique_clusters:\n",
    "            # Skip noise points for DBSCAN\n",
    "            if cluster == -1:\n",
    "                continue\n",
    "            cluster_data = data[data[cluster_column] == cluster]\n",
    "            points = cluster_data[[x_column, y_column]].values\n",
    "            # ConvexHull requires at least 3 points\n",
    "            if len(points) >= 3:\n",
    "                hull = ConvexHull(points)\n",
    "                hull_points = points[hull.vertices]\n",
    "                # Fill with semi-transparent color\n",
    "                plt.fill(hull_points[:, 0], hull_points[:, 1], alpha=0.2)\n",
    "\n",
    "    plt.show()"
   ]
  },
  {
   "cell_type": "code",
   "execution_count": null,
   "id": "540651fa",
   "metadata": {},
   "outputs": [],
   "source": [
    "# Function for visualisation of *all* clustering\n",
    "def visualise_all_clusters(data, x_column, y_column, x_label, y_label, show_contour=False):\n",
    "    \"\"\"\n",
    "    Visualise all clusters in the data.\n",
    "\n",
    "    Args:\n",
    "        data (pd.DataFrame): The input data for clustering.\n",
    "        x_column (str): The column name to use for the x-axis.\n",
    "        y_column (str): The column name to use for the y-axis.\n",
    "        x_label (str): The label to use for the x-axis.\n",
    "        y_label (str): The label to use for the y-axis.\n",
    "        show_contour (bool): Whether to show the convex hull (contour) for each cluster.\n",
    "    \"\"\"\n",
    "\n",
    "    clustering_methods = [\n",
    "        (\"KMeans_Cluster\", \"KMeans\"),\n",
    "        (\"DBSCAN_Cluster\", \"DBSCAN\"),\n",
    "        (\"Agglomerative_Cluster\", \"Agglomerative\"),\n",
    "        (\"GMM_Cluster\", \"Gaussian Mixture Model\")\n",
    "    ]\n",
    "\n",
    "    # Iterate over each clustering method and visualize\n",
    "    for cluster_column, title in clustering_methods:\n",
    "        visualise_clusters(\n",
    "            data,\n",
    "            cluster_column=cluster_column,\n",
    "            x_column=x_column,\n",
    "            y_column=y_column,\n",
    "            x_label=x_label,\n",
    "            y_label=y_label,\n",
    "            title=title,\n",
    "            show_contour=show_contour\n",
    "        )"
   ]
  },
  {
   "cell_type": "code",
   "execution_count": null,
   "id": "a97c07e7",
   "metadata": {},
   "outputs": [],
   "source": [
    "visualise_all_clusters(\n",
    "\tdata,\n",
    "\tx_column = \"cual es tu promedio actual\",\n",
    "\ty_column = \"cuantas horas al dia usas dispositivos electronicos para fines personales\",\n",
    "\tx_label = \"Promedio\",\n",
    "\ty_label = \"Horas Diarias en Dispositivos\",\n",
    "\tshow_contour = True\n",
    ")"
   ]
  }
 ],
 "metadata": {
  "kernelspec": {
   "display_name": ".venv",
   "language": "python",
   "name": "python3"
  },
  "language_info": {
   "codemirror_mode": {
    "name": "ipython",
    "version": 3
   },
   "file_extension": ".py",
   "mimetype": "text/x-python",
   "name": "python",
   "nbconvert_exporter": "python",
   "pygments_lexer": "ipython3",
   "version": "3.12.10"
  }
 },
 "nbformat": 4,
 "nbformat_minor": 5
}
